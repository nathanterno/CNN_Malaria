{
 "cells": [
  {
   "cell_type": "code",
   "execution_count": 1,
   "metadata": {
    "colab": {
     "base_uri": "https://localhost:8080/",
     "height": 109
    },
    "colab_type": "code",
    "executionInfo": {
     "elapsed": 9722,
     "status": "ok",
     "timestamp": 1580100501321,
     "user": {
      "displayName": "Nathan Moliterno",
      "photoUrl": "https://lh3.googleusercontent.com/-qDA03Kbn3q0/AAAAAAAAAAI/AAAAAAAAAiQ/pB6-5JB2ezk/s64/photo.jpg",
      "userId": "01817567104458419645"
     },
     "user_tz": 360
    },
    "id": "P4O22hOAZH7M",
    "outputId": "93b261b4-c655-4b0f-dcb7-f7ab6cf76afa"
   },
   "outputs": [],
   "source": [
    "import os\n",
    "import pandas as pd\n",
    "import numpy as np\n",
    "import tensorflow as tf\n",
    "import seaborn as sns\n",
    "import matplotlib.pyplot as plt\n",
    "from matplotlib.image import imread\n",
    "import warnings\n",
    "from tqdm import tqdm\n",
    "from tensorflow.keras.preprocessing.image import ImageDataGenerator\n",
    "from tensorflow.keras.models import Sequential\n",
    "from tensorflow.keras.layers import Activation, Dropout, Flatten, Dense, Conv2D, MaxPooling2D\n",
    "from tensorflow.keras.callbacks import EarlyStopping\n",
    "from tensorflow.keras.preprocessing import image\n",
    "from tensorflow.keras.models import load_model as loadModel\n",
    "from sklearn.metrics import classification_report,confusion_matrix\n",
    "import joblib"
   ]
  },
  {
   "cell_type": "code",
   "execution_count": 3,
   "metadata": {},
   "outputs": [
    {
     "name": "stdout",
     "output_type": "stream",
     "text": [
      "GPU found\n"
     ]
    }
   ],
   "source": [
    "os.environ['CUDA_VISIBLE_DEVICES'] = ''\n",
    "\n",
    "if tf.test.gpu_device_name():\n",
    "    print('GPU found')\n",
    "else:\n",
    "    print(\"No GPU found\")"
   ]
  },
  {
   "cell_type": "code",
   "execution_count": 4,
   "metadata": {
    "scrolled": true
   },
   "outputs": [
    {
     "name": "stdout",
     "output_type": "stream",
     "text": [
      "[name: \"/device:CPU:0\"\n",
      "device_type: \"CPU\"\n",
      "memory_limit: 268435456\n",
      "locality {\n",
      "}\n",
      "incarnation: 1252588943659482936\n",
      ", name: \"/device:XLA_CPU:0\"\n",
      "device_type: \"XLA_CPU\"\n",
      "memory_limit: 17179869184\n",
      "locality {\n",
      "}\n",
      "incarnation: 11330686945635354307\n",
      "physical_device_desc: \"device: XLA_CPU device\"\n",
      ", name: \"/device:GPU:0\"\n",
      "device_type: \"GPU\"\n",
      "memory_limit: 7021297664\n",
      "locality {\n",
      "  bus_id: 1\n",
      "  links {\n",
      "  }\n",
      "}\n",
      "incarnation: 6921974313743632544\n",
      "physical_device_desc: \"device: 0, name: GeForce GTX 1070 Ti, pci bus id: 0000:08:00.0, compute capability: 6.1\"\n",
      ", name: \"/device:XLA_GPU:0\"\n",
      "device_type: \"XLA_GPU\"\n",
      "memory_limit: 17179869184\n",
      "locality {\n",
      "}\n",
      "incarnation: 13744885255032289665\n",
      "physical_device_desc: \"device: XLA_GPU device\"\n",
      "]\n"
     ]
    }
   ],
   "source": [
    "from tensorflow.python.client import device_lib \n",
    "print(device_lib.list_local_devices())"
   ]
  },
  {
   "cell_type": "code",
   "execution_count": 5,
   "metadata": {},
   "outputs": [
    {
     "data": {
      "text/plain": [
       "['test', 'train']"
      ]
     },
     "execution_count": 5,
     "metadata": {},
     "output_type": "execute_result"
    }
   ],
   "source": [
    "myDataDir = '../DATA/cell_images'\n",
    "# CONFIRM THAT THIS REPORTS BACK 'test', and 'train'\n",
    "os.listdir(myDataDir) "
   ]
  },
  {
   "cell_type": "code",
   "execution_count": 6,
   "metadata": {
    "colab": {},
    "colab_type": "code",
    "id": "SOkM7iDuZH71"
   },
   "outputs": [],
   "source": [
    "testPath = myDataDir+'/test/'\n",
    "trainPath = myDataDir+'/train/'"
   ]
  },
  {
   "cell_type": "code",
   "execution_count": 7,
   "metadata": {
    "colab": {
     "base_uri": "https://localhost:8080/",
     "height": 35
    },
    "colab_type": "code",
    "executionInfo": {
     "elapsed": 275,
     "status": "ok",
     "timestamp": 1580100508579,
     "user": {
      "displayName": "Nathan Moliterno",
      "photoUrl": "https://lh3.googleusercontent.com/-qDA03Kbn3q0/AAAAAAAAAAI/AAAAAAAAAiQ/pB6-5JB2ezk/s64/photo.jpg",
      "userId": "01817567104458419645"
     },
     "user_tz": 360
    },
    "id": "qoH8M-LTZH8C",
    "outputId": "e377c505-bdf4-4fea-a611-4ff5d7ea412d"
   },
   "outputs": [
    {
     "data": {
      "text/plain": [
       "['parasitized', 'uninfected']"
      ]
     },
     "execution_count": 7,
     "metadata": {},
     "output_type": "execute_result"
    }
   ],
   "source": [
    "os.listdir(testPath)"
   ]
  },
  {
   "cell_type": "code",
   "execution_count": 8,
   "metadata": {
    "colab": {
     "base_uri": "https://localhost:8080/",
     "height": 35
    },
    "colab_type": "code",
    "executionInfo": {
     "elapsed": 502,
     "status": "ok",
     "timestamp": 1580100509799,
     "user": {
      "displayName": "Nathan Moliterno",
      "photoUrl": "https://lh3.googleusercontent.com/-qDA03Kbn3q0/AAAAAAAAAAI/AAAAAAAAAiQ/pB6-5JB2ezk/s64/photo.jpg",
      "userId": "01817567104458419645"
     },
     "user_tz": 360
    },
    "id": "6PKYNvZqZH8N",
    "outputId": "486d612c-9741-4ded-9532-5160884aa0b4"
   },
   "outputs": [
    {
     "data": {
      "text/plain": [
       "['parasitized', 'uninfected']"
      ]
     },
     "execution_count": 8,
     "metadata": {},
     "output_type": "execute_result"
    }
   ],
   "source": [
    "os.listdir(trainPath)"
   ]
  },
  {
   "cell_type": "code",
   "execution_count": 9,
   "metadata": {
    "colab": {
     "base_uri": "https://localhost:8080/",
     "height": 287
    },
    "colab_type": "code",
    "executionInfo": {
     "elapsed": 580,
     "status": "ok",
     "timestamp": 1580100602064,
     "user": {
      "displayName": "Nathan Moliterno",
      "photoUrl": "https://lh3.googleusercontent.com/-qDA03Kbn3q0/AAAAAAAAAAI/AAAAAAAAAiQ/pB6-5JB2ezk/s64/photo.jpg",
      "userId": "01817567104458419645"
     },
     "user_tz": 360
    },
    "id": "nxN5axbIZH8Y",
    "outputId": "5ea61fdb-00e7-4e27-9264-229dee858209"
   },
   "outputs": [
    {
     "data": {
      "text/plain": [
       "<matplotlib.image.AxesImage at 0x21d428dffc8>"
      ]
     },
     "execution_count": 9,
     "metadata": {},
     "output_type": "execute_result"
    },
    {
     "data": {
      "image/png": "[encoded data removed]",
      "text/plain": [
       "<Figure size 432x288 with 1 Axes>"
      ]
     },
     "metadata": {
      "needs_background": "light"
     },
     "output_type": "display_data"
    }
   ],
   "source": [
    "paraCell = trainPath+'parasitized/'+os.listdir(trainPath+'parasitized')[0]\n",
    "paraimg = imread(paraCell)\n",
    "plt.imshow(paraimg)"
   ]
  },
  {
   "cell_type": "code",
   "execution_count": 10,
   "metadata": {
    "colab": {
     "base_uri": "https://localhost:8080/",
     "height": 35
    },
    "colab_type": "code",
    "executionInfo": {
     "elapsed": 405,
     "status": "ok",
     "timestamp": 1580100591942,
     "user": {
      "displayName": "Nathan Moliterno",
      "photoUrl": "https://lh3.googleusercontent.com/-qDA03Kbn3q0/AAAAAAAAAAI/AAAAAAAAAiQ/pB6-5JB2ezk/s64/photo.jpg",
      "userId": "01817567104458419645"
     },
     "user_tz": 360
    },
    "id": "C3GtjkGbZH8i",
    "outputId": "1994c674-5604-4d67-8127-7eb3252848e7"
   },
   "outputs": [
    {
     "data": {
      "text/plain": [
       "(148, 142, 3)"
      ]
     },
     "execution_count": 10,
     "metadata": {},
     "output_type": "execute_result"
    }
   ],
   "source": [
    "paraimg.shape"
   ]
  },
  {
   "cell_type": "code",
   "execution_count": 11,
   "metadata": {
    "colab": {
     "base_uri": "https://localhost:8080/",
     "height": 287
    },
    "colab_type": "code",
    "executionInfo": {
     "elapsed": 1192,
     "status": "ok",
     "timestamp": 1580100594595,
     "user": {
      "displayName": "Nathan Moliterno",
      "photoUrl": "https://lh3.googleusercontent.com/-qDA03Kbn3q0/AAAAAAAAAAI/AAAAAAAAAiQ/pB6-5JB2ezk/s64/photo.jpg",
      "userId": "01817567104458419645"
     },
     "user_tz": 360
    },
    "id": "-N0Jc8EZZH8s",
    "outputId": "450acde4-c376-454e-ceba-fc5d532f4762",
    "scrolled": true
   },
   "outputs": [
    {
     "data": {
      "text/plain": [
       "<matplotlib.image.AxesImage at 0x21d42b0e588>"
      ]
     },
     "execution_count": 11,
     "metadata": {},
     "output_type": "execute_result"
    },
    {
     "data": {
      "image/png": "[encoded data removed]",
      "text/plain": [
       "<Figure size 432x288 with 1 Axes>"
      ]
     },
     "metadata": {
      "needs_background": "light"
     },
     "output_type": "display_data"
    }
   ],
   "source": [
    "uninfectedCell = trainPath+'uninfected/'+os.listdir(trainPath+'uninfected')[0]\n",
    "uninfectedimg = imread(uninfectedCell)\n",
    "plt.imshow(uninfectedimg)"
   ]
  },
  {
   "cell_type": "code",
   "execution_count": 12,
   "metadata": {
    "colab": {
     "base_uri": "https://localhost:8080/",
     "height": 35
    },
    "colab_type": "code",
    "executionInfo": {
     "elapsed": 410,
     "status": "ok",
     "timestamp": 1580100611625,
     "user": {
      "displayName": "Nathan Moliterno",
      "photoUrl": "https://lh3.googleusercontent.com/-qDA03Kbn3q0/AAAAAAAAAAI/AAAAAAAAAiQ/pB6-5JB2ezk/s64/photo.jpg",
      "userId": "01817567104458419645"
     },
     "user_tz": 360
    },
    "id": "dAD_I1cnZH87",
    "outputId": "a8fa2fa2-56cc-4b7b-d877-0c8862d74539"
   },
   "outputs": [
    {
     "data": {
      "text/plain": [
       "(139, 160, 3)"
      ]
     },
     "execution_count": 12,
     "metadata": {},
     "output_type": "execute_result"
    }
   ],
   "source": [
    "uninfectedimg.shape"
   ]
  },
  {
   "cell_type": "code",
   "execution_count": 13,
   "metadata": {
    "colab": {
     "base_uri": "https://localhost:8080/",
     "height": 35
    },
    "colab_type": "code",
    "executionInfo": {
     "elapsed": 395,
     "status": "ok",
     "timestamp": 1580100613466,
     "user": {
      "displayName": "Nathan Moliterno",
      "photoUrl": "https://lh3.googleusercontent.com/-qDA03Kbn3q0/AAAAAAAAAAI/AAAAAAAAAiQ/pB6-5JB2ezk/s64/photo.jpg",
      "userId": "01817567104458419645"
     },
     "user_tz": 360
    },
    "id": "e7JKHemGZH9L",
    "outputId": "b9e245a9-293b-4eea-e354-b9a29843f24e"
   },
   "outputs": [
    {
     "data": {
      "text/plain": [
       "12480"
      ]
     },
     "execution_count": 13,
     "metadata": {},
     "output_type": "execute_result"
    }
   ],
   "source": [
    "len(os.listdir(trainPath+'/parasitized'))"
   ]
  },
  {
   "cell_type": "code",
   "execution_count": 14,
   "metadata": {
    "colab": {
     "base_uri": "https://localhost:8080/",
     "height": 35
    },
    "colab_type": "code",
    "executionInfo": {
     "elapsed": 495,
     "status": "ok",
     "timestamp": 1580100615094,
     "user": {
      "displayName": "Nathan Moliterno",
      "photoUrl": "https://lh3.googleusercontent.com/-qDA03Kbn3q0/AAAAAAAAAAI/AAAAAAAAAiQ/pB6-5JB2ezk/s64/photo.jpg",
      "userId": "01817567104458419645"
     },
     "user_tz": 360
    },
    "id": "1dnrblAxZH9Z",
    "outputId": "6b5bbb62-7220-440c-c350-2f186d3af2e6"
   },
   "outputs": [
    {
     "data": {
      "text/plain": [
       "12480"
      ]
     },
     "execution_count": 14,
     "metadata": {},
     "output_type": "execute_result"
    }
   ],
   "source": [
    "len(os.listdir(trainPath+'/uninfected'))"
   ]
  },
  {
   "cell_type": "code",
   "execution_count": 15,
   "metadata": {
    "colab": {
     "base_uri": "https://localhost:8080/",
     "height": 35
    },
    "colab_type": "code",
    "executionInfo": {
     "elapsed": 832,
     "status": "ok",
     "timestamp": 1580100617776,
     "user": {
      "displayName": "Nathan Moliterno",
      "photoUrl": "https://lh3.googleusercontent.com/-qDA03Kbn3q0/AAAAAAAAAAI/AAAAAAAAAiQ/pB6-5JB2ezk/s64/photo.jpg",
      "userId": "01817567104458419645"
     },
     "user_tz": 360
    },
    "id": "tPRFO2bk1TNB",
    "outputId": "0422459f-4aa3-46e6-cbc7-f71de6a29aab"
   },
   "outputs": [
    {
     "data": {
      "text/plain": [
       "1300"
      ]
     },
     "execution_count": 15,
     "metadata": {},
     "output_type": "execute_result"
    }
   ],
   "source": [
    "len(os.listdir(testPath+'/parasitized'))"
   ]
  },
  {
   "cell_type": "code",
   "execution_count": 16,
   "metadata": {
    "colab": {
     "base_uri": "https://localhost:8080/",
     "height": 35
    },
    "colab_type": "code",
    "executionInfo": {
     "elapsed": 400,
     "status": "ok",
     "timestamp": 1580100619219,
     "user": {
      "displayName": "Nathan Moliterno",
      "photoUrl": "https://lh3.googleusercontent.com/-qDA03Kbn3q0/AAAAAAAAAAI/AAAAAAAAAiQ/pB6-5JB2ezk/s64/photo.jpg",
      "userId": "01817567104458419645"
     },
     "user_tz": 360
    },
    "id": "1xurqB981TVC",
    "outputId": "097b3d9a-b4a9-4c1c-932f-368be4db888a"
   },
   "outputs": [
    {
     "data": {
      "text/plain": [
       "1300"
      ]
     },
     "execution_count": 16,
     "metadata": {},
     "output_type": "execute_result"
    }
   ],
   "source": [
    "len(os.listdir(testPath+'/uninfected'))"
   ]
  },
  {
   "cell_type": "markdown",
   "metadata": {
    "colab_type": "text",
    "id": "icX60kaoZH9l"
   },
   "source": [
    "# Find average dimensions of images"
   ]
  },
  {
   "cell_type": "code",
   "execution_count": 17,
   "metadata": {
    "colab": {
     "base_uri": "https://localhost:8080/",
     "height": 1000
    },
    "colab_type": "code",
    "executionInfo": {
     "elapsed": 320771,
     "status": "ok",
     "timestamp": 1580100942600,
     "user": {
      "displayName": "Nathan Moliterno",
      "photoUrl": "https://lh3.googleusercontent.com/-qDA03Kbn3q0/AAAAAAAAAAI/AAAAAAAAAiQ/pB6-5JB2ezk/s64/photo.jpg",
      "userId": "01817567104458419645"
     },
     "user_tz": 360
    },
    "id": "PyztMFbjZH9o",
    "outputId": "7efeb190-2f14-4718-9698-583daeb05041"
   },
   "outputs": [
    {
     "name": "stderr",
     "output_type": "stream",
     "text": [
      "100%|█████████████████████████████████████████████████████████████████████████████| 1300/1300 [00:06<00:00, 202.10it/s]\n"
     ]
    }
   ],
   "source": [
    "dim1 = []\n",
    "dim2 = []\n",
    "count = 1\n",
    "for imageFilename in tqdm(os.listdir(testPath+'uninfected')):\n",
    "    img = imread(testPath+'uninfected'+'/'+imageFilename)\n",
    "    d1,d2,colors = img.shape\n",
    "    dim1.append(d1)\n",
    "    dim2.append(d2)\n",
    "    count += 1"
   ]
  },
  {
   "cell_type": "code",
   "execution_count": 18,
   "metadata": {
    "colab": {
     "base_uri": "https://localhost:8080/",
     "height": 459
    },
    "colab_type": "code",
    "executionInfo": {
     "elapsed": 1090,
     "status": "ok",
     "timestamp": 1580100948370,
     "user": {
      "displayName": "Nathan Moliterno",
      "photoUrl": "https://lh3.googleusercontent.com/-qDA03Kbn3q0/AAAAAAAAAAI/AAAAAAAAAiQ/pB6-5JB2ezk/s64/photo.jpg",
      "userId": "01817567104458419645"
     },
     "user_tz": 360
    },
    "id": "n4ssLGYqZH9x",
    "outputId": "d5de86a0-f4c9-44ed-ab91-e43b14e9421b"
   },
   "outputs": [
    {
     "name": "stderr",
     "output_type": "stream",
     "text": [
      "C:\\Users\\NQM\\anaconda3\\envs\\yeet\\lib\\site-packages\\seaborn\\_decorators.py:43: FutureWarning: Pass the following variables as keyword args: x, y. From version 0.12, the only valid positional argument will be `data`, and passing other arguments without an explicit keyword will result in an error or misinterpretation.\n",
      "  FutureWarning\n"
     ]
    },
    {
     "data": {
      "text/plain": [
       "<seaborn.axisgrid.JointGrid at 0x21d42b4a888>"
      ]
     },
     "execution_count": 18,
     "metadata": {},
     "output_type": "execute_result"
    },
    {
     "data": {
      "image/png": "[encoded data removed]",
      "text/plain": [
       "<Figure size 432x432 with 3 Axes>"
      ]
     },
     "metadata": {
      "needs_background": "light"
     },
     "output_type": "display_data"
    }
   ],
   "source": [
    "sns.jointplot(dim1,dim2)"
   ]
  },
  {
   "cell_type": "code",
   "execution_count": 19,
   "metadata": {
    "colab": {
     "base_uri": "https://localhost:8080/",
     "height": 35
    },
    "colab_type": "code",
    "executionInfo": {
     "elapsed": 419,
     "status": "ok",
     "timestamp": 1580100954920,
     "user": {
      "displayName": "Nathan Moliterno",
      "photoUrl": "https://lh3.googleusercontent.com/-qDA03Kbn3q0/AAAAAAAAAAI/AAAAAAAAAiQ/pB6-5JB2ezk/s64/photo.jpg",
      "userId": "01817567104458419645"
     },
     "user_tz": 360
    },
    "id": "CpqR4GFDZH-I",
    "outputId": "46b203b8-89ea-4d5c-df98-af7c5c0b8777"
   },
   "outputs": [
    {
     "data": {
      "text/plain": [
       "130.92538461538462"
      ]
     },
     "execution_count": 19,
     "metadata": {},
     "output_type": "execute_result"
    }
   ],
   "source": [
    "np.mean(dim1)"
   ]
  },
  {
   "cell_type": "code",
   "execution_count": 20,
   "metadata": {
    "colab": {
     "base_uri": "https://localhost:8080/",
     "height": 35
    },
    "colab_type": "code",
    "executionInfo": {
     "elapsed": 400,
     "status": "ok",
     "timestamp": 1580100958562,
     "user": {
      "displayName": "Nathan Moliterno",
      "photoUrl": "https://lh3.googleusercontent.com/-qDA03Kbn3q0/AAAAAAAAAAI/AAAAAAAAAiQ/pB6-5JB2ezk/s64/photo.jpg",
      "userId": "01817567104458419645"
     },
     "user_tz": 360
    },
    "id": "lo8GhL2QZH-P",
    "outputId": "6271381d-7bdb-4c41-f547-78971ed4bf46"
   },
   "outputs": [
    {
     "data": {
      "text/plain": [
       "130.75"
      ]
     },
     "execution_count": 20,
     "metadata": {},
     "output_type": "execute_result"
    }
   ],
   "source": [
    "np.mean(dim2)"
   ]
  },
  {
   "cell_type": "code",
   "execution_count": 21,
   "metadata": {
    "colab": {
     "base_uri": "https://localhost:8080/",
     "height": 35
    },
    "colab_type": "code",
    "executionInfo": {
     "elapsed": 441,
     "status": "ok",
     "timestamp": 1580100960286,
     "user": {
      "displayName": "Nathan Moliterno",
      "photoUrl": "https://lh3.googleusercontent.com/-qDA03Kbn3q0/AAAAAAAAAAI/AAAAAAAAAiQ/pB6-5JB2ezk/s64/photo.jpg",
      "userId": "01817567104458419645"
     },
     "user_tz": 360
    },
    "id": "saNf1i5mZH-Z",
    "outputId": "a2ff6708-c3d0-47b2-8d19-7d5ecdc72a13"
   },
   "outputs": [
    {
     "data": {
      "text/plain": [
       "(130, 130, 3)"
      ]
     },
     "execution_count": 21,
     "metadata": {},
     "output_type": "execute_result"
    }
   ],
   "source": [
    "imageShape = (int(np.mean(dim1)),int(np.mean(dim2)),3)\n",
    "imageShape"
   ]
  },
  {
   "cell_type": "markdown",
   "metadata": {
    "colab_type": "text",
    "id": "PvJRLz-FZH-k"
   },
   "source": [
    "# Prepare the data"
   ]
  },
  {
   "cell_type": "code",
   "execution_count": 22,
   "metadata": {
    "colab": {},
    "colab_type": "code",
    "id": "m2cHL7KTZH-x"
   },
   "outputs": [],
   "source": [
    "imageGen = ImageDataGenerator(rotation_range=20, # rotate the image 20 degrees\n",
    "                               width_shift_range=0.10, # Shift the pic width by a max of 5%\n",
    "                               height_shift_range=0.10, # Shift the pic height by a max of 5%\n",
    "                               # rescale=1/255, # Rescale the image by normalzing it.\n",
    "                               shear_range=0.1, # Shear means cutting away part of the image (max 10%)\n",
    "                               zoom_range=0.1, # Zoom in by 10% max\n",
    "                               horizontal_flip=True, # Allow horizontal flipping\n",
    "                               fill_mode='nearest', # Fill in missing pixels with the nearest filled value\n",
    "                               dtype = 'float16'\n",
    "                              )"
   ]
  },
  {
   "cell_type": "code",
   "execution_count": 23,
   "metadata": {
    "colab": {
     "base_uri": "https://localhost:8080/",
     "height": 287
    },
    "colab_type": "code",
    "executionInfo": {
     "elapsed": 432,
     "status": "ok",
     "timestamp": 1580100980080,
     "user": {
      "displayName": "Nathan Moliterno",
      "photoUrl": "https://lh3.googleusercontent.com/-qDA03Kbn3q0/AAAAAAAAAAI/AAAAAAAAAiQ/pB6-5JB2ezk/s64/photo.jpg",
      "userId": "01817567104458419645"
     },
     "user_tz": 360
    },
    "id": "4vbrfUhZZH-5",
    "outputId": "654baec8-babe-4b46-900d-0efe671a70e2"
   },
   "outputs": [
    {
     "data": {
      "text/plain": [
       "<matplotlib.image.AxesImage at 0x21d51fbf1c8>"
      ]
     },
     "execution_count": 23,
     "metadata": {},
     "output_type": "execute_result"
    },
    {
     "data": {
      "image/png": "[encoded data removed]",
      "text/plain": [
       "<Figure size 432x288 with 1 Axes>"
      ]
     },
     "metadata": {
      "needs_background": "light"
     },
     "output_type": "display_data"
    }
   ],
   "source": [
    "plt.imshow(paraimg)"
   ]
  },
  {
   "cell_type": "code",
   "execution_count": 24,
   "metadata": {
    "colab": {
     "base_uri": "https://localhost:8080/",
     "height": 287
    },
    "colab_type": "code",
    "executionInfo": {
     "elapsed": 401,
     "status": "ok",
     "timestamp": 1580100982818,
     "user": {
      "displayName": "Nathan Moliterno",
      "photoUrl": "https://lh3.googleusercontent.com/-qDA03Kbn3q0/AAAAAAAAAAI/AAAAAAAAAiQ/pB6-5JB2ezk/s64/photo.jpg",
      "userId": "01817567104458419645"
     },
     "user_tz": 360
    },
    "id": "F77le6c2ZH_B",
    "outputId": "e63ad610-120d-42b5-a31f-cea54ef2ce3c",
    "scrolled": false
   },
   "outputs": [
    {
     "data": {
      "text/plain": [
       "<matplotlib.image.AxesImage at 0x21d53545848>"
      ]
     },
     "execution_count": 24,
     "metadata": {},
     "output_type": "execute_result"
    },
    {
     "data": {
      "image/png": "[encoded data removed]",
      "text/plain": [
       "<Figure size 432x288 with 1 Axes>"
      ]
     },
     "metadata": {
      "needs_background": "light"
     },
     "output_type": "display_data"
    }
   ],
   "source": [
    "plt.imshow(imageGen.random_transform(paraimg))"
   ]
  },
  {
   "cell_type": "code",
   "execution_count": 25,
   "metadata": {
    "colab": {
     "base_uri": "https://localhost:8080/",
     "height": 287
    },
    "colab_type": "code",
    "executionInfo": {
     "elapsed": 405,
     "status": "ok",
     "timestamp": 1580100986234,
     "user": {
      "displayName": "Nathan Moliterno",
      "photoUrl": "https://lh3.googleusercontent.com/-qDA03Kbn3q0/AAAAAAAAAAI/AAAAAAAAAiQ/pB6-5JB2ezk/s64/photo.jpg",
      "userId": "01817567104458419645"
     },
     "user_tz": 360
    },
    "id": "fwWJJ-h-ZH_K",
    "outputId": "3d68d0bd-c855-4373-d4af-00e3427f3ed2",
    "scrolled": true
   },
   "outputs": [
    {
     "data": {
      "text/plain": [
       "<matplotlib.image.AxesImage at 0x21d595edc88>"
      ]
     },
     "execution_count": 25,
     "metadata": {},
     "output_type": "execute_result"
    },
    {
     "data": {
      "image/png": "[encoded data removed]",
      "text/plain": [
       "<Figure size 432x288 with 1 Axes>"
      ]
     },
     "metadata": {
      "needs_background": "light"
     },
     "output_type": "display_data"
    }
   ],
   "source": [
    "plt.imshow(imageGen.random_transform(paraimg))"
   ]
  },
  {
   "cell_type": "markdown",
   "metadata": {
    "colab_type": "text",
    "id": "bJSohJm9ZH_g"
   },
   "source": [
    "**Create model**"
   ]
  },
  {
   "cell_type": "code",
   "execution_count": 26,
   "metadata": {
    "colab": {},
    "colab_type": "code",
    "id": "baP761k8XUuD"
   },
   "outputs": [],
   "source": [
    "model = Sequential()\n",
    "\n",
    "model.add(Conv2D(filters=32, kernel_size=(3,3),input_shape=imageShape, activation='relu',))\n",
    "model.add(MaxPooling2D(pool_size=(2, 2)))\n",
    "\n",
    "model.add(Conv2D(filters=64, kernel_size=(3,3),input_shape=imageShape, activation='relu',))\n",
    "model.add(MaxPooling2D(pool_size=(2, 2)))\n",
    "\n",
    "model.add(Conv2D(filters=64, kernel_size=(3,3),input_shape=imageShape, activation='relu',))\n",
    "model.add(MaxPooling2D(pool_size=(2, 2)))\n",
    "\n",
    "\n",
    "model.add(Flatten())\n",
    "\n",
    "\n",
    "model.add(Dense(128, activation='relu'))\n",
    "\n",
    "model.add(Dropout(0.5))\n",
    "\n",
    "model.add(Dense(1, activation='sigmoid'))\n",
    "\n",
    "model.compile(loss='binary_crossentropy', optimizer='adam', metrics=['accuracy'])\n",
    "\n",
    "earlyStop = EarlyStopping(monitor='val_loss',patience=2)"
   ]
  },
  {
   "cell_type": "markdown",
   "metadata": {
    "colab_type": "text",
    "id": "LNJfXtZuZH_s"
   },
   "source": [
    "**Train model**"
   ]
  },
  {
   "cell_type": "code",
   "execution_count": 27,
   "metadata": {
    "colab": {},
    "colab_type": "code",
    "id": "n6iFfvHiZH_u"
   },
   "outputs": [],
   "source": [
    "batchSize = 8"
   ]
  },
  {
   "cell_type": "code",
   "execution_count": 28,
   "metadata": {},
   "outputs": [],
   "source": [
    "target_size = imageShape[:2]"
   ]
  },
  {
   "cell_type": "code",
   "execution_count": 29,
   "metadata": {},
   "outputs": [
    {
     "data": {
      "text/plain": [
       "'target_size = joblib.load(\"target_size.pkl\")\\ntarget_size'"
      ]
     },
     "execution_count": 29,
     "metadata": {},
     "output_type": "execute_result"
    }
   ],
   "source": [
    "#If you want to train on different image size, saved to a pickle file, uncomment below\n",
    "\n",
    "'''target_size = joblib.load(\"target_size.pkl\")\n",
    "target_size'''"
   ]
  },
  {
   "cell_type": "code",
   "execution_count": 30,
   "metadata": {
    "colab": {
     "base_uri": "https://localhost:8080/",
     "height": 35
    },
    "colab_type": "code",
    "executionInfo": {
     "elapsed": 990,
     "status": "ok",
     "timestamp": 1580101017741,
     "user": {
      "displayName": "Nathan Moliterno",
      "photoUrl": "https://lh3.googleusercontent.com/-qDA03Kbn3q0/AAAAAAAAAAI/AAAAAAAAAiQ/pB6-5JB2ezk/s64/photo.jpg",
      "userId": "01817567104458419645"
     },
     "user_tz": 360
    },
    "id": "liOeTs4DZH_z",
    "outputId": "c19e66f8-83b3-46c4-8c0b-12a20f24588a"
   },
   "outputs": [
    {
     "name": "stdout",
     "output_type": "stream",
     "text": [
      "Found 24958 images belonging to 2 classes.\n"
     ]
    }
   ],
   "source": [
    "trainimageGen = imageGen.flow_from_directory(directory = trainPath,\n",
    "                                               target_size = target_size,\n",
    "                                                color_mode='rgb',\n",
    "                                               batch_size=batchSize,\n",
    "                                               class_mode='binary', shuffle=True)"
   ]
  },
  {
   "cell_type": "code",
   "execution_count": 31,
   "metadata": {
    "colab": {
     "base_uri": "https://localhost:8080/",
     "height": 35
    },
    "colab_type": "code",
    "executionInfo": {
     "elapsed": 463,
     "status": "ok",
     "timestamp": 1580101021635,
     "user": {
      "displayName": "Nathan Moliterno",
      "photoUrl": "https://lh3.googleusercontent.com/-qDA03Kbn3q0/AAAAAAAAAAI/AAAAAAAAAiQ/pB6-5JB2ezk/s64/photo.jpg",
      "userId": "01817567104458419645"
     },
     "user_tz": 360
    },
    "id": "gUV8LlddZH_7",
    "outputId": "b156b04c-fb53-4e2c-c05f-2d0798068f5e"
   },
   "outputs": [
    {
     "name": "stdout",
     "output_type": "stream",
     "text": [
      "Found 2600 images belonging to 2 classes.\n"
     ]
    }
   ],
   "source": [
    "testimageGen = imageGen.flow_from_directory(directory = testPath,\n",
    "                                               target_size=target_size,\n",
    "                                               color_mode='rgb',\n",
    "                                               batch_size=batchSize,\n",
    "                                               class_mode='binary', shuffle=False)"
   ]
  },
  {
   "cell_type": "code",
   "execution_count": 32,
   "metadata": {
    "colab": {
     "base_uri": "https://localhost:8080/",
     "height": 35
    },
    "colab_type": "code",
    "executionInfo": {
     "elapsed": 428,
     "status": "ok",
     "timestamp": 1580101026449,
     "user": {
      "displayName": "Nathan Moliterno",
      "photoUrl": "https://lh3.googleusercontent.com/-qDA03Kbn3q0/AAAAAAAAAAI/AAAAAAAAAiQ/pB6-5JB2ezk/s64/photo.jpg",
      "userId": "01817567104458419645"
     },
     "user_tz": 360
    },
    "id": "4_2qLgzVZH__",
    "outputId": "3df198fa-061c-4b13-883c-9360e72e98a0"
   },
   "outputs": [
    {
     "data": {
      "text/plain": [
       "{'parasitized': 0, 'uninfected': 1}"
      ]
     },
     "execution_count": 32,
     "metadata": {},
     "output_type": "execute_result"
    }
   ],
   "source": [
    "trainimageGen.class_indices"
   ]
  },
  {
   "cell_type": "code",
   "execution_count": 33,
   "metadata": {
    "colab": {},
    "colab_type": "code",
    "id": "Njax3JhxZIAE"
   },
   "outputs": [],
   "source": [
    "warnings.filterwarnings('ignore')"
   ]
  },
  {
   "cell_type": "code",
   "execution_count": 34,
   "metadata": {
    "colab": {
     "base_uri": "https://localhost:8080/",
     "height": 531
    },
    "colab_type": "code",
    "executionInfo": {
     "elapsed": 914,
     "status": "ok",
     "timestamp": 1580101032407,
     "user": {
      "displayName": "Nathan Moliterno",
      "photoUrl": "https://lh3.googleusercontent.com/-qDA03Kbn3q0/AAAAAAAAAAI/AAAAAAAAAiQ/pB6-5JB2ezk/s64/photo.jpg",
      "userId": "01817567104458419645"
     },
     "user_tz": 360
    },
    "id": "_wchsxi7ZH_o",
    "outputId": "08034259-fdad-4209-d9c7-c2499267771f"
   },
   "outputs": [
    {
     "name": "stdout",
     "output_type": "stream",
     "text": [
      "Model: \"sequential\"\n",
      "_________________________________________________________________\n",
      "Layer (type)                 Output Shape              Param #   \n",
      "=================================================================\n",
      "conv2d (Conv2D)              (None, 128, 128, 32)      896       \n",
      "_________________________________________________________________\n",
      "max_pooling2d (MaxPooling2D) (None, 64, 64, 32)        0         \n",
      "_________________________________________________________________\n",
      "conv2d_1 (Conv2D)            (None, 62, 62, 64)        18496     \n",
      "_________________________________________________________________\n",
      "max_pooling2d_1 (MaxPooling2 (None, 31, 31, 64)        0         \n",
      "_________________________________________________________________\n",
      "conv2d_2 (Conv2D)            (None, 29, 29, 64)        36928     \n",
      "_________________________________________________________________\n",
      "max_pooling2d_2 (MaxPooling2 (None, 14, 14, 64)        0         \n",
      "_________________________________________________________________\n",
      "flatten (Flatten)            (None, 12544)             0         \n",
      "_________________________________________________________________\n",
      "dense (Dense)                (None, 128)               1605760   \n",
      "_________________________________________________________________\n",
      "dropout (Dropout)            (None, 128)               0         \n",
      "_________________________________________________________________\n",
      "dense_1 (Dense)              (None, 1)                 129       \n",
      "=================================================================\n",
      "Total params: 1,662,209\n",
      "Trainable params: 1,662,209\n",
      "Non-trainable params: 0\n",
      "_________________________________________________________________\n"
     ]
    }
   ],
   "source": [
    "model.summary()"
   ]
  },
  {
   "cell_type": "code",
   "execution_count": 35,
   "metadata": {
    "colab": {
     "base_uri": "https://localhost:8080/",
     "height": 639
    },
    "colab_type": "code",
    "executionInfo": {
     "elapsed": 98945,
     "status": "error",
     "timestamp": 1580101134887,
     "user": {
      "displayName": "Nathan Moliterno",
      "photoUrl": "https://lh3.googleusercontent.com/-qDA03Kbn3q0/AAAAAAAAAAI/AAAAAAAAAiQ/pB6-5JB2ezk/s64/photo.jpg",
      "userId": "01817567104458419645"
     },
     "user_tz": 360
    },
    "id": "5QmYwxONZIAI",
    "outputId": "098bd62c-3ac5-4246-8ae3-c6f788ec9732",
    "scrolled": true
   },
   "outputs": [
    {
     "name": "stdout",
     "output_type": "stream",
     "text": [
      "WARNING:tensorflow:From <ipython-input-35-1ef7bccec160>:3: Model.fit_generator (from tensorflow.python.keras.engine.training) is deprecated and will be removed in a future version.\n",
      "Instructions for updating:\n",
      "Please use Model.fit, which supports generators.\n",
      "Epoch 1/100\n",
      "3120/3120 [==============================] - 234s 75ms/step - loss: 0.8292 - accuracy: 0.5395 - val_loss: 0.6797 - val_accuracy: 0.5796\n",
      "Epoch 2/100\n",
      "3120/3120 [==============================] - 108s 35ms/step - loss: 0.6830 - accuracy: 0.5691 - val_loss: 0.6910 - val_accuracy: 0.5896\n",
      "Epoch 3/100\n",
      "3120/3120 [==============================] - 108s 35ms/step - loss: 0.6751 - accuracy: 0.5912 - val_loss: 0.6710 - val_accuracy: 0.5962\n",
      "Epoch 4/100\n",
      "3120/3120 [==============================] - 149s 48ms/step - loss: 0.6810 - accuracy: 0.6236 - val_loss: 0.5841 - val_accuracy: 0.7138\n",
      "Epoch 5/100\n",
      "3120/3120 [==============================] - 174s 56ms/step - loss: 0.3672 - accuracy: 0.8481 - val_loss: 0.2382 - val_accuracy: 0.9281\n",
      "Epoch 6/100\n",
      "3120/3120 [==============================] - 111s 36ms/step - loss: 0.2153 - accuracy: 0.9336 - val_loss: 0.2156 - val_accuracy: 0.9338\n",
      "Epoch 7/100\n",
      "3120/3120 [==============================] - 111s 36ms/step - loss: 0.2047 - accuracy: 0.9371 - val_loss: 0.2018 - val_accuracy: 0.9342\n",
      "Epoch 8/100\n",
      "3120/3120 [==============================] - 111s 36ms/step - loss: 0.1980 - accuracy: 0.9405 - val_loss: 0.2621 - val_accuracy: 0.9335\n",
      "Epoch 9/100\n",
      "3120/3120 [==============================] - 111s 36ms/step - loss: 0.1920 - accuracy: 0.9414 - val_loss: 0.1885 - val_accuracy: 0.9396\n",
      "Epoch 10/100\n",
      "3120/3120 [==============================] - 111s 36ms/step - loss: 0.1948 - accuracy: 0.9415 - val_loss: 0.1949 - val_accuracy: 0.9408\n",
      "Epoch 11/100\n",
      "3120/3120 [==============================] - 111s 36ms/step - loss: 0.1977 - accuracy: 0.9394 - val_loss: 0.2097 - val_accuracy: 0.9308\n"
     ]
    }
   ],
   "source": [
    "results = model.fit_generator(trainimageGen,epochs=100,\n",
    "                              validation_data=testimageGen,\n",
    "                              callbacks=[earlyStop])"
   ]
  },
  {
   "cell_type": "markdown",
   "metadata": {
    "colab_type": "text",
    "id": "Eyy9CgoxZIAM"
   },
   "source": [
    "# Evaluate model"
   ]
  },
  {
   "cell_type": "code",
   "execution_count": 36,
   "metadata": {},
   "outputs": [],
   "source": [
    "#If you want to load pre-trained network\n",
    "    # 1) comment out the three 'losses' cells below this one\n",
    "    # 2) uncomment  this cell below  \n",
    "\n",
    "#model = loadModel('malaria_detectorNQM.h5')"
   ]
  },
  {
   "cell_type": "code",
   "execution_count": 37,
   "metadata": {
    "colab": {},
    "colab_type": "code",
    "id": "7prGZMt8ZIAO"
   },
   "outputs": [],
   "source": [
    "losses = pd.DataFrame(model.history.history)"
   ]
  },
  {
   "cell_type": "code",
   "execution_count": 38,
   "metadata": {
    "colab": {},
    "colab_type": "code",
    "id": "mScoz9cMZIAS"
   },
   "outputs": [
    {
     "data": {
      "text/plain": [
       "<matplotlib.axes._subplots.AxesSubplot at 0x21f0f117608>"
      ]
     },
     "execution_count": 38,
     "metadata": {},
     "output_type": "execute_result"
    },
    {
     "data": {
      "image/png": "[encoded data removed]",
      "text/plain": [
       "<Figure size 432x288 with 1 Axes>"
      ]
     },
     "metadata": {
      "needs_background": "light"
     },
     "output_type": "display_data"
    }
   ],
   "source": [
    "losses[['loss','val_loss']].plot()"
   ]
  },
  {
   "cell_type": "code",
   "execution_count": 39,
   "metadata": {},
   "outputs": [
    {
     "data": {
      "text/plain": [
       "<matplotlib.axes._subplots.AxesSubplot at 0x21d595c2988>"
      ]
     },
     "execution_count": 39,
     "metadata": {},
     "output_type": "execute_result"
    },
    {
     "data": {
      "image/png": "[encoded data removed]",
      "text/plain": [
       "<Figure size 432x288 with 1 Axes>"
      ]
     },
     "metadata": {
      "needs_background": "light"
     },
     "output_type": "display_data"
    }
   ],
   "source": [
    "losses[['accuracy','val_accuracy']].plot()"
   ]
  },
  {
   "cell_type": "code",
   "execution_count": 40,
   "metadata": {
    "colab": {},
    "colab_type": "code",
    "id": "PzVNR-nwZIAW"
   },
   "outputs": [
    {
     "data": {
      "text/plain": [
       "['loss', 'accuracy']"
      ]
     },
     "execution_count": 40,
     "metadata": {},
     "output_type": "execute_result"
    }
   ],
   "source": [
    "model.metrics_names"
   ]
  },
  {
   "cell_type": "code",
   "execution_count": 41,
   "metadata": {
    "colab": {},
    "colab_type": "code",
    "id": "na1XZycXZIAb"
   },
   "outputs": [
    {
     "name": "stdout",
     "output_type": "stream",
     "text": [
      "WARNING:tensorflow:From <ipython-input-41-2b3d5d3fe17c>:1: Model.evaluate_generator (from tensorflow.python.keras.engine.training) is deprecated and will be removed in a future version.\n",
      "Instructions for updating:\n",
      "Please use Model.evaluate, which supports generators.\n"
     ]
    },
    {
     "data": {
      "text/plain": [
       "[0.22335749864578247, 0.9269230961799622]"
      ]
     },
     "execution_count": 41,
     "metadata": {},
     "output_type": "execute_result"
    }
   ],
   "source": [
    "model.evaluate_generator(testimageGen)"
   ]
  },
  {
   "cell_type": "code",
   "execution_count": 42,
   "metadata": {
    "colab": {},
    "colab_type": "code",
    "id": "uV6yBAC-ZIAe"
   },
   "outputs": [
    {
     "name": "stdout",
     "output_type": "stream",
     "text": [
      "WARNING:tensorflow:From <ipython-input-42-8852dc84a7a3>:1: Model.predict_generator (from tensorflow.python.keras.engine.training) is deprecated and will be removed in a future version.\n",
      "Instructions for updating:\n",
      "Please use Model.predict, which supports generators.\n"
     ]
    }
   ],
   "source": [
    "predProbabilities = model.predict_generator(testimageGen)"
   ]
  },
  {
   "cell_type": "code",
   "execution_count": 43,
   "metadata": {
    "colab": {},
    "colab_type": "code",
    "id": "LXImBGfgZIAh",
    "scrolled": true
   },
   "outputs": [
    {
     "data": {
      "text/plain": [
       "array([[5.1133645e-07],\n",
       "       [3.8529965e-05],\n",
       "       [1.8613433e-04],\n",
       "       ...,\n",
       "       [9.4825125e-01],\n",
       "       [9.4825125e-01],\n",
       "       [9.4825125e-01]], dtype=float32)"
      ]
     },
     "execution_count": 43,
     "metadata": {},
     "output_type": "execute_result"
    }
   ],
   "source": [
    "predProbabilities"
   ]
  },
  {
   "cell_type": "code",
   "execution_count": 44,
   "metadata": {
    "colab": {},
    "colab_type": "code",
    "id": "kO00mBqfZIAl"
   },
   "outputs": [
    {
     "data": {
      "text/plain": [
       "array([0, 0, 0, ..., 1, 1, 1])"
      ]
     },
     "execution_count": 44,
     "metadata": {},
     "output_type": "execute_result"
    }
   ],
   "source": [
    "testimageGen.classes"
   ]
  },
  {
   "cell_type": "code",
   "execution_count": 45,
   "metadata": {
    "colab": {},
    "colab_type": "code",
    "id": "ddCh1L3lZIAs"
   },
   "outputs": [
    {
     "data": {
      "text/plain": [
       "array([[False],\n",
       "       [False],\n",
       "       [False],\n",
       "       ...,\n",
       "       [ True],\n",
       "       [ True],\n",
       "       [ True]])"
      ]
     },
     "execution_count": 45,
     "metadata": {},
     "output_type": "execute_result"
    }
   ],
   "source": [
    "predictions = predProbabilities > 0.5\n",
    "predictions"
   ]
  },
  {
   "cell_type": "code",
   "execution_count": 46,
   "metadata": {
    "colab": {},
    "colab_type": "code",
    "id": "UbxsGbwAZIA3"
   },
   "outputs": [
    {
     "name": "stdout",
     "output_type": "stream",
     "text": [
      "              precision    recall  f1-score   support\n",
      "\n",
      "           0       0.97      0.90      0.93      1300\n",
      "           1       0.91      0.97      0.94      1300\n",
      "\n",
      "    accuracy                           0.93      2600\n",
      "   macro avg       0.94      0.93      0.93      2600\n",
      "weighted avg       0.94      0.93      0.93      2600\n",
      "\n"
     ]
    }
   ],
   "source": [
    "print(classification_report(testimageGen.classes,predictions))"
   ]
  },
  {
   "cell_type": "code",
   "execution_count": 47,
   "metadata": {
    "colab": {},
    "colab_type": "code",
    "id": "uIfq2zdlZIA-"
   },
   "outputs": [
    {
     "data": {
      "text/plain": [
       "array([[1171,  129],\n",
       "       [  42, 1258]], dtype=int64)"
      ]
     },
     "execution_count": 47,
     "metadata": {},
     "output_type": "execute_result"
    }
   ],
   "source": [
    "confusion_matrix(testimageGen.classes,predictions)"
   ]
  },
  {
   "cell_type": "markdown",
   "metadata": {
    "colab_type": "text",
    "id": "QufA8fcYZIBD"
   },
   "source": [
    "# samploe prediction"
   ]
  },
  {
   "cell_type": "code",
   "execution_count": 48,
   "metadata": {
    "colab": {},
    "colab_type": "code",
    "id": "q9tGXGHQZIBF"
   },
   "outputs": [
    {
     "data": {
      "text/plain": [
       "'../DATA/cell_images/train/parasitized/C100P61ThinF_IMG_20150918_144104_cell_162.png'"
      ]
     },
     "execution_count": 48,
     "metadata": {},
     "output_type": "execute_result"
    }
   ],
   "source": [
    "paraCell"
   ]
  },
  {
   "cell_type": "code",
   "execution_count": 49,
   "metadata": {
    "colab": {},
    "colab_type": "code",
    "id": "9q7C3gjFZIBJ"
   },
   "outputs": [
    {
     "data": {
      "image/png": "[encoded data removed]",
      "text/plain": [
       "<PIL.Image.Image image mode=RGB size=130x130 at 0x21F0FDD4D48>"
      ]
     },
     "execution_count": 49,
     "metadata": {},
     "output_type": "execute_result"
    }
   ],
   "source": [
    "myimage = image.load_img(paraCell,target_size=target_size)\n",
    "myimage"
   ]
  },
  {
   "cell_type": "code",
   "execution_count": 50,
   "metadata": {
    "colab": {},
    "colab_type": "code",
    "id": "emRJ_cvVZIBS"
   },
   "outputs": [
    {
     "data": {
      "text/plain": [
       "PIL.Image.Image"
      ]
     },
     "execution_count": 50,
     "metadata": {},
     "output_type": "execute_result"
    }
   ],
   "source": [
    "type(myimage)"
   ]
  },
  {
   "cell_type": "code",
   "execution_count": 51,
   "metadata": {
    "colab": {},
    "colab_type": "code",
    "id": "Pc_Ip-HAZIBW"
   },
   "outputs": [],
   "source": [
    "myimage = image.img_to_array(myimage)"
   ]
  },
  {
   "cell_type": "code",
   "execution_count": 52,
   "metadata": {
    "colab": {},
    "colab_type": "code",
    "id": "YxA8TjJ1ZIBc"
   },
   "outputs": [
    {
     "data": {
      "text/plain": [
       "numpy.ndarray"
      ]
     },
     "execution_count": 52,
     "metadata": {},
     "output_type": "execute_result"
    }
   ],
   "source": [
    "type(myimage)"
   ]
  },
  {
   "cell_type": "code",
   "execution_count": 53,
   "metadata": {
    "colab": {},
    "colab_type": "code",
    "id": "QHgikxQlZIBi"
   },
   "outputs": [
    {
     "data": {
      "text/plain": [
       "(130, 130, 3)"
      ]
     },
     "execution_count": 53,
     "metadata": {},
     "output_type": "execute_result"
    }
   ],
   "source": [
    "myimage.shape"
   ]
  },
  {
   "cell_type": "code",
   "execution_count": 54,
   "metadata": {
    "colab": {},
    "colab_type": "code",
    "id": "Nt0FLHqYZIBm"
   },
   "outputs": [
    {
     "data": {
      "text/plain": [
       "(1, 130, 130, 3)"
      ]
     },
     "execution_count": 54,
     "metadata": {},
     "output_type": "execute_result"
    }
   ],
   "source": [
    "myimage = np.expand_dims(myimage, axis=0)\n",
    "myimage.shape"
   ]
  },
  {
   "cell_type": "code",
   "execution_count": 55,
   "metadata": {
    "colab": {},
    "colab_type": "code",
    "id": "-jgp0vrzZIBv",
    "scrolled": true
   },
   "outputs": [
    {
     "data": {
      "text/plain": [
       "array([[0.00035105]], dtype=float32)"
      ]
     },
     "execution_count": 55,
     "metadata": {},
     "output_type": "execute_result"
    }
   ],
   "source": [
    "model.predict(myimage)"
   ]
  },
  {
   "cell_type": "code",
   "execution_count": 56,
   "metadata": {},
   "outputs": [
    {
     "name": "stdout",
     "output_type": "stream",
     "text": [
      "WARNING:tensorflow:From <ipython-input-56-8d8945d3356b>:1: Sequential.predict_classes (from tensorflow.python.keras.engine.sequential) is deprecated and will be removed after 2021-01-01.\n",
      "Instructions for updating:\n",
      "Please use instead:* `np.argmax(model.predict(x), axis=-1)`,   if your model does multi-class classification   (e.g. if it uses a `softmax` last-layer activation).* `(model.predict(x) > 0.5).astype(\"int32\")`,   if your model does binary classification   (e.g. if it uses a `sigmoid` last-layer activation).\n"
     ]
    },
    {
     "data": {
      "text/plain": [
       "array([[0]])"
      ]
     },
     "execution_count": 56,
     "metadata": {},
     "output_type": "execute_result"
    }
   ],
   "source": [
    "model.predict_classes(myimage)"
   ]
  },
  {
   "cell_type": "code",
   "execution_count": 57,
   "metadata": {
    "colab": {},
    "colab_type": "code",
    "id": "PRuS96b3ZIBz"
   },
   "outputs": [
    {
     "data": {
      "text/plain": [
       "{'parasitized': 0, 'uninfected': 1}"
      ]
     },
     "execution_count": 57,
     "metadata": {},
     "output_type": "execute_result"
    }
   ],
   "source": [
    "trainimageGen.class_indices"
   ]
  },
  {
   "cell_type": "code",
   "execution_count": 58,
   "metadata": {
    "colab": {},
    "colab_type": "code",
    "id": "ZexNTFnhZIB4"
   },
   "outputs": [
    {
     "data": {
      "text/plain": [
       "{'parasitized': 0, 'uninfected': 1}"
      ]
     },
     "execution_count": 58,
     "metadata": {},
     "output_type": "execute_result"
    }
   ],
   "source": [
    "testimageGen.class_indices"
   ]
  },
  {
   "cell_type": "markdown",
   "metadata": {
    "colab_type": "text",
    "id": "-m5jj1_-ZIB8"
   },
   "source": [
    "# Save model"
   ]
  },
  {
   "cell_type": "code",
   "execution_count": 59,
   "metadata": {
    "colab": {},
    "colab_type": "code",
    "id": "zmYMv81eZIB9"
   },
   "outputs": [],
   "source": [
    "joblib.dump(imageShape[:2], \"target_size.pkl\")\n",
    "model.save('malaria_detectorNQM.h5')"
   ]
  },
  {
   "cell_type": "markdown",
   "metadata": {},
   "source": [
    "# Deployment Practice"
   ]
  },
  {
   "cell_type": "code",
   "execution_count": 60,
   "metadata": {},
   "outputs": [],
   "source": [
    "def return_prediction(model, target_size, sample_json):\n",
    "    imgLoc = sample_json[\"imgLoc\"]\n",
    "    \n",
    "    imgData = np.expand_dims(image.img_to_array(image.load_img(imgLoc, target_size = target_size)), axis = 0)\n",
    "    \n",
    "    classes = np.array(['parasitized', 'uninfected'])\n",
    "    \n",
    "    class_ind = model.predict_classes(imgData)\n",
    "    \n",
    "    return classes[class_ind][0][0]"
   ]
  },
  {
   "cell_type": "code",
   "execution_count": 61,
   "metadata": {},
   "outputs": [
    {
     "data": {
      "text/plain": [
       "'parasitized'"
      ]
     },
     "execution_count": 61,
     "metadata": {},
     "output_type": "execute_result"
    }
   ],
   "source": [
    "imgLoc = paraCell\n",
    "cellExample = {'imgLoc' : imgLoc}\n",
    "return_prediction(model, target_size, cellExample)"
   ]
  },
  {
   "cell_type": "code",
   "execution_count": 62,
   "metadata": {},
   "outputs": [
    {
     "data": {
      "text/plain": [
       "'uninfected'"
      ]
     },
     "execution_count": 62,
     "metadata": {},
     "output_type": "execute_result"
    }
   ],
   "source": [
    "imgLoc = uninfectedCell\n",
    "cellExample = {'imgLoc' : imgLoc}\n",
    "return_prediction(model, target_size, cellExample)"
   ]
  }
 ],
 "metadata": {
  "accelerator": "GPU",
  "colab": {
   "collapsed_sections": [
    "Eyy9CgoxZIAM",
    "QufA8fcYZIBD"
   ],
   "name": "tfConvoluteMalaria.ipynb",
   "provenance": [
    {
     "file_id": "1tLXM15hOWCPaEtyhcw6XF79oOyOjtKzt",
     "timestamp": 1579986190325
    }
   ]
  },
  "kernelspec": {
   "display_name": "Python 3",
   "language": "python",
   "name": "python3"
  },
  "language_info": {
   "codemirror_mode": {
    "name": "ipython",
    "version": 3
   },
   "file_extension": ".py",
   "mimetype": "text/x-python",
   "name": "python",
   "nbconvert_exporter": "python",
   "pygments_lexer": "ipython3",
   "version": "3.7.9"
  }
 },
 "nbformat": 4,
 "nbformat_minor": 1
}
