{
 "cells": [
  {
   "cell_type": "code",
   "execution_count": null,
   "metadata": {
    "colab": {
     "base_uri": "https://localhost:8080/",
     "height": 109
    },
    "colab_type": "code",
    "executionInfo": {
     "elapsed": 9722,
     "status": "ok",
     "timestamp": 1580100501321,
     "user": {
      "displayName": "Nathan Moliterno",
      "photoUrl": "https://lh3.googleusercontent.com/-qDA03Kbn3q0/AAAAAAAAAAI/AAAAAAAAAiQ/pB6-5JB2ezk/s64/photo.jpg",
      "userId": "01817567104458419645"
     },
     "user_tz": 360
    },
    "id": "P4O22hOAZH7M",
    "outputId": "93b261b4-c655-4b0f-dcb7-f7ab6cf76afa"
   },
   "outputs": [],
   "source": [
    "import os\n",
    "import pandas as pd\n",
    "import numpy as np\n",
    "import tensorflow as tf\n",
    "import seaborn as sns\n",
    "import matplotlib.pyplot as plt\n",
    "from matplotlib.image import imread\n",
    "import warnings\n",
    "from tqdm import tqdm\n",
    "from tensorflow.keras.preprocessing.image import ImageDataGenerator\n",
    "from tensorflow.keras.models import Sequential\n",
    "from tensorflow.keras.layers import Activation, Dropout, Flatten, Dense, Conv2D, MaxPooling2D\n",
    "from tensorflow.keras.callbacks import EarlyStopping\n",
    "from tensorflow.keras.preprocessing import image\n",
    "from tensorflow.keras.models import load_model as loadModel\n",
    "from sklearn.metrics import classification_report,confusion_matrix\n",
    "import joblib"
   ]
  },
  {
   "cell_type": "code",
   "execution_count": null,
   "metadata": {},
   "outputs": [],
   "source": [
    "os.environ['CUDA_VISIBLE_DEVICES'] = ''\n",
    "\n",
    "if tf.test.gpu_device_name():\n",
    "    print('GPU found')\n",
    "else:\n",
    "    print(\"No GPU found\")"
   ]
  },
  {
   "cell_type": "code",
   "execution_count": null,
   "metadata": {
    "scrolled": true
   },
   "outputs": [],
   "source": [
    "from tensorflow.python.client import device_lib \n",
    "print(device_lib.list_local_devices())"
   ]
  },
  {
   "cell_type": "code",
   "execution_count": null,
   "metadata": {},
   "outputs": [],
   "source": [
    "myDataDir = '../DATA/cell_images'\n",
    "# CONFIRM THAT THIS REPORTS BACK 'test', and 'train'\n",
    "os.listdir(myDataDir) "
   ]
  },
  {
   "cell_type": "code",
   "execution_count": null,
   "metadata": {
    "colab": {},
    "colab_type": "code",
    "id": "SOkM7iDuZH71"
   },
   "outputs": [],
   "source": [
    "testPath = myDataDir+'/test/'\n",
    "trainPath = myDataDir+'/train/'"
   ]
  },
  {
   "cell_type": "code",
   "execution_count": null,
   "metadata": {
    "colab": {
     "base_uri": "https://localhost:8080/",
     "height": 35
    },
    "colab_type": "code",
    "executionInfo": {
     "elapsed": 275,
     "status": "ok",
     "timestamp": 1580100508579,
     "user": {
      "displayName": "Nathan Moliterno",
      "photoUrl": "https://lh3.googleusercontent.com/-qDA03Kbn3q0/AAAAAAAAAAI/AAAAAAAAAiQ/pB6-5JB2ezk/s64/photo.jpg",
      "userId": "01817567104458419645"
     },
     "user_tz": 360
    },
    "id": "qoH8M-LTZH8C",
    "outputId": "e377c505-bdf4-4fea-a611-4ff5d7ea412d"
   },
   "outputs": [],
   "source": [
    "os.listdir(testPath)"
   ]
  },
  {
   "cell_type": "code",
   "execution_count": null,
   "metadata": {
    "colab": {
     "base_uri": "https://localhost:8080/",
     "height": 35
    },
    "colab_type": "code",
    "executionInfo": {
     "elapsed": 502,
     "status": "ok",
     "timestamp": 1580100509799,
     "user": {
      "displayName": "Nathan Moliterno",
      "photoUrl": "https://lh3.googleusercontent.com/-qDA03Kbn3q0/AAAAAAAAAAI/AAAAAAAAAiQ/pB6-5JB2ezk/s64/photo.jpg",
      "userId": "01817567104458419645"
     },
     "user_tz": 360
    },
    "id": "6PKYNvZqZH8N",
    "outputId": "486d612c-9741-4ded-9532-5160884aa0b4"
   },
   "outputs": [],
   "source": [
    "os.listdir(trainPath)"
   ]
  },
  {
   "cell_type": "code",
   "execution_count": null,
   "metadata": {
    "colab": {
     "base_uri": "https://localhost:8080/",
     "height": 287
    },
    "colab_type": "code",
    "executionInfo": {
     "elapsed": 580,
     "status": "ok",
     "timestamp": 1580100602064,
     "user": {
      "displayName": "Nathan Moliterno",
      "photoUrl": "https://lh3.googleusercontent.com/-qDA03Kbn3q0/AAAAAAAAAAI/AAAAAAAAAiQ/pB6-5JB2ezk/s64/photo.jpg",
      "userId": "01817567104458419645"
     },
     "user_tz": 360
    },
    "id": "nxN5axbIZH8Y",
    "outputId": "5ea61fdb-00e7-4e27-9264-229dee858209"
   },
   "outputs": [],
   "source": [
    "paraCell = trainPath+'parasitized/'+os.listdir(trainPath+'parasitized')[0]\n",
    "paraimg = imread(paraCell)\n",
    "plt.imshow(paraimg)"
   ]
  },
  {
   "cell_type": "code",
   "execution_count": null,
   "metadata": {
    "colab": {
     "base_uri": "https://localhost:8080/",
     "height": 35
    },
    "colab_type": "code",
    "executionInfo": {
     "elapsed": 405,
     "status": "ok",
     "timestamp": 1580100591942,
     "user": {
      "displayName": "Nathan Moliterno",
      "photoUrl": "https://lh3.googleusercontent.com/-qDA03Kbn3q0/AAAAAAAAAAI/AAAAAAAAAiQ/pB6-5JB2ezk/s64/photo.jpg",
      "userId": "01817567104458419645"
     },
     "user_tz": 360
    },
    "id": "C3GtjkGbZH8i",
    "outputId": "1994c674-5604-4d67-8127-7eb3252848e7"
   },
   "outputs": [],
   "source": [
    "paraimg.shape"
   ]
  },
  {
   "cell_type": "code",
   "execution_count": null,
   "metadata": {
    "colab": {
     "base_uri": "https://localhost:8080/",
     "height": 287
    },
    "colab_type": "code",
    "executionInfo": {
     "elapsed": 1192,
     "status": "ok",
     "timestamp": 1580100594595,
     "user": {
      "displayName": "Nathan Moliterno",
      "photoUrl": "https://lh3.googleusercontent.com/-qDA03Kbn3q0/AAAAAAAAAAI/AAAAAAAAAiQ/pB6-5JB2ezk/s64/photo.jpg",
      "userId": "01817567104458419645"
     },
     "user_tz": 360
    },
    "id": "-N0Jc8EZZH8s",
    "outputId": "450acde4-c376-454e-ceba-fc5d532f4762",
    "scrolled": true
   },
   "outputs": [],
   "source": [
    "uninfectedCell = trainPath+'uninfected/'+os.listdir(trainPath+'uninfected')[0]\n",
    "uninfectedimg = imread(uninfectedCell)\n",
    "plt.imshow(uninfectedimg)"
   ]
  },
  {
   "cell_type": "code",
   "execution_count": null,
   "metadata": {
    "colab": {
     "base_uri": "https://localhost:8080/",
     "height": 35
    },
    "colab_type": "code",
    "executionInfo": {
     "elapsed": 410,
     "status": "ok",
     "timestamp": 1580100611625,
     "user": {
      "displayName": "Nathan Moliterno",
      "photoUrl": "https://lh3.googleusercontent.com/-qDA03Kbn3q0/AAAAAAAAAAI/AAAAAAAAAiQ/pB6-5JB2ezk/s64/photo.jpg",
      "userId": "01817567104458419645"
     },
     "user_tz": 360
    },
    "id": "dAD_I1cnZH87",
    "outputId": "a8fa2fa2-56cc-4b7b-d877-0c8862d74539"
   },
   "outputs": [],
   "source": [
    "uninfectedimg.shape"
   ]
  },
  {
   "cell_type": "code",
   "execution_count": null,
   "metadata": {
    "colab": {
     "base_uri": "https://localhost:8080/",
     "height": 35
    },
    "colab_type": "code",
    "executionInfo": {
     "elapsed": 395,
     "status": "ok",
     "timestamp": 1580100613466,
     "user": {
      "displayName": "Nathan Moliterno",
      "photoUrl": "https://lh3.googleusercontent.com/-qDA03Kbn3q0/AAAAAAAAAAI/AAAAAAAAAiQ/pB6-5JB2ezk/s64/photo.jpg",
      "userId": "01817567104458419645"
     },
     "user_tz": 360
    },
    "id": "e7JKHemGZH9L",
    "outputId": "b9e245a9-293b-4eea-e354-b9a29843f24e"
   },
   "outputs": [],
   "source": [
    "len(os.listdir(trainPath+'/parasitized'))"
   ]
  },
  {
   "cell_type": "code",
   "execution_count": null,
   "metadata": {
    "colab": {
     "base_uri": "https://localhost:8080/",
     "height": 35
    },
    "colab_type": "code",
    "executionInfo": {
     "elapsed": 495,
     "status": "ok",
     "timestamp": 1580100615094,
     "user": {
      "displayName": "Nathan Moliterno",
      "photoUrl": "https://lh3.googleusercontent.com/-qDA03Kbn3q0/AAAAAAAAAAI/AAAAAAAAAiQ/pB6-5JB2ezk/s64/photo.jpg",
      "userId": "01817567104458419645"
     },
     "user_tz": 360
    },
    "id": "1dnrblAxZH9Z",
    "outputId": "6b5bbb62-7220-440c-c350-2f186d3af2e6"
   },
   "outputs": [],
   "source": [
    "len(os.listdir(trainPath+'/uninfected'))"
   ]
  },
  {
   "cell_type": "code",
   "execution_count": null,
   "metadata": {
    "colab": {
     "base_uri": "https://localhost:8080/",
     "height": 35
    },
    "colab_type": "code",
    "executionInfo": {
     "elapsed": 832,
     "status": "ok",
     "timestamp": 1580100617776,
     "user": {
      "displayName": "Nathan Moliterno",
      "photoUrl": "https://lh3.googleusercontent.com/-qDA03Kbn3q0/AAAAAAAAAAI/AAAAAAAAAiQ/pB6-5JB2ezk/s64/photo.jpg",
      "userId": "01817567104458419645"
     },
     "user_tz": 360
    },
    "id": "tPRFO2bk1TNB",
    "outputId": "0422459f-4aa3-46e6-cbc7-f71de6a29aab"
   },
   "outputs": [],
   "source": [
    "len(os.listdir(testPath+'/parasitized'))"
   ]
  },
  {
   "cell_type": "code",
   "execution_count": null,
   "metadata": {
    "colab": {
     "base_uri": "https://localhost:8080/",
     "height": 35
    },
    "colab_type": "code",
    "executionInfo": {
     "elapsed": 400,
     "status": "ok",
     "timestamp": 1580100619219,
     "user": {
      "displayName": "Nathan Moliterno",
      "photoUrl": "https://lh3.googleusercontent.com/-qDA03Kbn3q0/AAAAAAAAAAI/AAAAAAAAAiQ/pB6-5JB2ezk/s64/photo.jpg",
      "userId": "01817567104458419645"
     },
     "user_tz": 360
    },
    "id": "1xurqB981TVC",
    "outputId": "097b3d9a-b4a9-4c1c-932f-368be4db888a"
   },
   "outputs": [],
   "source": [
    "len(os.listdir(testPath+'/uninfected'))"
   ]
  },
  {
   "cell_type": "markdown",
   "metadata": {
    "colab_type": "text",
    "id": "icX60kaoZH9l"
   },
   "source": [
    "# Find average dimensions of images"
   ]
  },
  {
   "cell_type": "code",
   "execution_count": null,
   "metadata": {
    "colab": {
     "base_uri": "https://localhost:8080/",
     "height": 1000
    },
    "colab_type": "code",
    "executionInfo": {
     "elapsed": 320771,
     "status": "ok",
     "timestamp": 1580100942600,
     "user": {
      "displayName": "Nathan Moliterno",
      "photoUrl": "https://lh3.googleusercontent.com/-qDA03Kbn3q0/AAAAAAAAAAI/AAAAAAAAAiQ/pB6-5JB2ezk/s64/photo.jpg",
      "userId": "01817567104458419645"
     },
     "user_tz": 360
    },
    "id": "PyztMFbjZH9o",
    "outputId": "7efeb190-2f14-4718-9698-583daeb05041"
   },
   "outputs": [],
   "source": [
    "dim1 = []\n",
    "dim2 = []\n",
    "count = 1\n",
    "for imageFilename in tqdm(os.listdir(testPath+'uninfected')):\n",
    "    img = imread(testPath+'uninfected'+'/'+imageFilename)\n",
    "    d1,d2,colors = img.shape\n",
    "    dim1.append(d1)\n",
    "    dim2.append(d2)\n",
    "    count += 1"
   ]
  },
  {
   "cell_type": "code",
   "execution_count": null,
   "metadata": {
    "colab": {
     "base_uri": "https://localhost:8080/",
     "height": 459
    },
    "colab_type": "code",
    "executionInfo": {
     "elapsed": 1090,
     "status": "ok",
     "timestamp": 1580100948370,
     "user": {
      "displayName": "Nathan Moliterno",
      "photoUrl": "https://lh3.googleusercontent.com/-qDA03Kbn3q0/AAAAAAAAAAI/AAAAAAAAAiQ/pB6-5JB2ezk/s64/photo.jpg",
      "userId": "01817567104458419645"
     },
     "user_tz": 360
    },
    "id": "n4ssLGYqZH9x",
    "outputId": "d5de86a0-f4c9-44ed-ab91-e43b14e9421b"
   },
   "outputs": [],
   "source": [
    "sns.jointplot(dim1,dim2)"
   ]
  },
  {
   "cell_type": "code",
   "execution_count": null,
   "metadata": {
    "colab": {
     "base_uri": "https://localhost:8080/",
     "height": 35
    },
    "colab_type": "code",
    "executionInfo": {
     "elapsed": 419,
     "status": "ok",
     "timestamp": 1580100954920,
     "user": {
      "displayName": "Nathan Moliterno",
      "photoUrl": "https://lh3.googleusercontent.com/-qDA03Kbn3q0/AAAAAAAAAAI/AAAAAAAAAiQ/pB6-5JB2ezk/s64/photo.jpg",
      "userId": "01817567104458419645"
     },
     "user_tz": 360
    },
    "id": "CpqR4GFDZH-I",
    "outputId": "46b203b8-89ea-4d5c-df98-af7c5c0b8777"
   },
   "outputs": [],
   "source": [
    "np.mean(dim1)"
   ]
  },
  {
   "cell_type": "code",
   "execution_count": null,
   "metadata": {
    "colab": {
     "base_uri": "https://localhost:8080/",
     "height": 35
    },
    "colab_type": "code",
    "executionInfo": {
     "elapsed": 400,
     "status": "ok",
     "timestamp": 1580100958562,
     "user": {
      "displayName": "Nathan Moliterno",
      "photoUrl": "https://lh3.googleusercontent.com/-qDA03Kbn3q0/AAAAAAAAAAI/AAAAAAAAAiQ/pB6-5JB2ezk/s64/photo.jpg",
      "userId": "01817567104458419645"
     },
     "user_tz": 360
    },
    "id": "lo8GhL2QZH-P",
    "outputId": "6271381d-7bdb-4c41-f547-78971ed4bf46"
   },
   "outputs": [],
   "source": [
    "np.mean(dim2)"
   ]
  },
  {
   "cell_type": "code",
   "execution_count": null,
   "metadata": {
    "colab": {
     "base_uri": "https://localhost:8080/",
     "height": 35
    },
    "colab_type": "code",
    "executionInfo": {
     "elapsed": 441,
     "status": "ok",
     "timestamp": 1580100960286,
     "user": {
      "displayName": "Nathan Moliterno",
      "photoUrl": "https://lh3.googleusercontent.com/-qDA03Kbn3q0/AAAAAAAAAAI/AAAAAAAAAiQ/pB6-5JB2ezk/s64/photo.jpg",
      "userId": "01817567104458419645"
     },
     "user_tz": 360
    },
    "id": "saNf1i5mZH-Z",
    "outputId": "a2ff6708-c3d0-47b2-8d19-7d5ecdc72a13"
   },
   "outputs": [],
   "source": [
    "imageShape = (int(np.mean(dim1)),int(np.mean(dim2)),3)\n",
    "imageShape"
   ]
  },
  {
   "cell_type": "markdown",
   "metadata": {
    "colab_type": "text",
    "id": "PvJRLz-FZH-k"
   },
   "source": [
    "# Prepare the data"
   ]
  },
  {
   "cell_type": "code",
   "execution_count": null,
   "metadata": {
    "colab": {},
    "colab_type": "code",
    "id": "m2cHL7KTZH-x"
   },
   "outputs": [],
   "source": [
    "imageGen = ImageDataGenerator(rotation_range=20, # rotate the image 20 degrees\n",
    "                               width_shift_range=0.10, # Shift the pic width by a max of 5%\n",
    "                               height_shift_range=0.10, # Shift the pic height by a max of 5%\n",
    "                               # rescale=1/255, # Rescale the image by normalzing it.\n",
    "                               shear_range=0.1, # Shear means cutting away part of the image (max 10%)\n",
    "                               zoom_range=0.1, # Zoom in by 10% max\n",
    "                               horizontal_flip=True, # Allow horizontal flipping\n",
    "                               fill_mode='nearest', # Fill in missing pixels with the nearest filled value\n",
    "                               dtype = 'float16'\n",
    "                              )"
   ]
  },
  {
   "cell_type": "code",
   "execution_count": null,
   "metadata": {
    "colab": {
     "base_uri": "https://localhost:8080/",
     "height": 287
    },
    "colab_type": "code",
    "executionInfo": {
     "elapsed": 432,
     "status": "ok",
     "timestamp": 1580100980080,
     "user": {
      "displayName": "Nathan Moliterno",
      "photoUrl": "https://lh3.googleusercontent.com/-qDA03Kbn3q0/AAAAAAAAAAI/AAAAAAAAAiQ/pB6-5JB2ezk/s64/photo.jpg",
      "userId": "01817567104458419645"
     },
     "user_tz": 360
    },
    "id": "4vbrfUhZZH-5",
    "outputId": "654baec8-babe-4b46-900d-0efe671a70e2"
   },
   "outputs": [],
   "source": [
    "plt.imshow(paraimg)"
   ]
  },
  {
   "cell_type": "code",
   "execution_count": null,
   "metadata": {
    "colab": {
     "base_uri": "https://localhost:8080/",
     "height": 287
    },
    "colab_type": "code",
    "executionInfo": {
     "elapsed": 401,
     "status": "ok",
     "timestamp": 1580100982818,
     "user": {
      "displayName": "Nathan Moliterno",
      "photoUrl": "https://lh3.googleusercontent.com/-qDA03Kbn3q0/AAAAAAAAAAI/AAAAAAAAAiQ/pB6-5JB2ezk/s64/photo.jpg",
      "userId": "01817567104458419645"
     },
     "user_tz": 360
    },
    "id": "F77le6c2ZH_B",
    "outputId": "e63ad610-120d-42b5-a31f-cea54ef2ce3c",
    "scrolled": false
   },
   "outputs": [],
   "source": [
    "plt.imshow(imageGen.random_transform(paraimg))"
   ]
  },
  {
   "cell_type": "code",
   "execution_count": null,
   "metadata": {
    "colab": {
     "base_uri": "https://localhost:8080/",
     "height": 287
    },
    "colab_type": "code",
    "executionInfo": {
     "elapsed": 405,
     "status": "ok",
     "timestamp": 1580100986234,
     "user": {
      "displayName": "Nathan Moliterno",
      "photoUrl": "https://lh3.googleusercontent.com/-qDA03Kbn3q0/AAAAAAAAAAI/AAAAAAAAAiQ/pB6-5JB2ezk/s64/photo.jpg",
      "userId": "01817567104458419645"
     },
     "user_tz": 360
    },
    "id": "fwWJJ-h-ZH_K",
    "outputId": "3d68d0bd-c855-4373-d4af-00e3427f3ed2",
    "scrolled": true
   },
   "outputs": [],
   "source": [
    "plt.imshow(imageGen.random_transform(paraimg))"
   ]
  },
  {
   "cell_type": "markdown",
   "metadata": {
    "colab_type": "text",
    "id": "bJSohJm9ZH_g"
   },
   "source": [
    "# Create model"
   ]
  },
  {
   "cell_type": "code",
   "execution_count": null,
   "metadata": {
    "colab": {},
    "colab_type": "code",
    "id": "baP761k8XUuD"
   },
   "outputs": [],
   "source": [
    "model = Sequential()\n",
    "\n",
    "model.add(Conv2D(filters=32, kernel_size=(3,3),input_shape=imageShape, activation='relu',))\n",
    "model.add(MaxPooling2D(pool_size=(2, 2)))\n",
    "\n",
    "model.add(Conv2D(filters=64, kernel_size=(3,3),input_shape=imageShape, activation='relu',))\n",
    "model.add(MaxPooling2D(pool_size=(2, 2)))\n",
    "\n",
    "model.add(Conv2D(filters=64, kernel_size=(3,3),input_shape=imageShape, activation='relu',))\n",
    "model.add(MaxPooling2D(pool_size=(2, 2)))\n",
    "\n",
    "\n",
    "model.add(Flatten())\n",
    "\n",
    "\n",
    "model.add(Dense(128, activation='relu'))\n",
    "\n",
    "model.add(Dropout(0.5))\n",
    "\n",
    "model.add(Dense(1, activation='sigmoid'))\n",
    "\n",
    "model.compile(loss='binary_crossentropy', optimizer='adam', metrics=['accuracy'])\n",
    "\n",
    "earlyStop = EarlyStopping(monitor='val_loss',patience=2)"
   ]
  },
  {
   "cell_type": "markdown",
   "metadata": {
    "colab_type": "text",
    "id": "LNJfXtZuZH_s"
   },
   "source": [
    "# Train model"
   ]
  },
  {
   "cell_type": "code",
   "execution_count": null,
   "metadata": {
    "colab": {},
    "colab_type": "code",
    "id": "n6iFfvHiZH_u"
   },
   "outputs": [],
   "source": [
    "batchSize = 8"
   ]
  },
  {
   "cell_type": "code",
   "execution_count": null,
   "metadata": {},
   "outputs": [],
   "source": [
    "target_size = imageShape[:2]"
   ]
  },
  {
   "cell_type": "code",
   "execution_count": null,
   "metadata": {},
   "outputs": [],
   "source": [
    "#If you want to train on different image size, saved to a pickle file, uncomment below\n",
    "\n",
    "'''target_size = joblib.load(\"target_size.pkl\")\n",
    "target_size'''"
   ]
  },
  {
   "cell_type": "code",
   "execution_count": null,
   "metadata": {
    "colab": {
     "base_uri": "https://localhost:8080/",
     "height": 35
    },
    "colab_type": "code",
    "executionInfo": {
     "elapsed": 990,
     "status": "ok",
     "timestamp": 1580101017741,
     "user": {
      "displayName": "Nathan Moliterno",
      "photoUrl": "https://lh3.googleusercontent.com/-qDA03Kbn3q0/AAAAAAAAAAI/AAAAAAAAAiQ/pB6-5JB2ezk/s64/photo.jpg",
      "userId": "01817567104458419645"
     },
     "user_tz": 360
    },
    "id": "liOeTs4DZH_z",
    "outputId": "c19e66f8-83b3-46c4-8c0b-12a20f24588a"
   },
   "outputs": [],
   "source": [
    "trainimageGen = imageGen.flow_from_directory(directory = trainPath,\n",
    "                                               target_size = target_size,\n",
    "                                                color_mode='rgb',\n",
    "                                               batch_size=batchSize,\n",
    "                                               class_mode='binary', shuffle=True)"
   ]
  },
  {
   "cell_type": "code",
   "execution_count": null,
   "metadata": {
    "colab": {
     "base_uri": "https://localhost:8080/",
     "height": 35
    },
    "colab_type": "code",
    "executionInfo": {
     "elapsed": 463,
     "status": "ok",
     "timestamp": 1580101021635,
     "user": {
      "displayName": "Nathan Moliterno",
      "photoUrl": "https://lh3.googleusercontent.com/-qDA03Kbn3q0/AAAAAAAAAAI/AAAAAAAAAiQ/pB6-5JB2ezk/s64/photo.jpg",
      "userId": "01817567104458419645"
     },
     "user_tz": 360
    },
    "id": "gUV8LlddZH_7",
    "outputId": "b156b04c-fb53-4e2c-c05f-2d0798068f5e"
   },
   "outputs": [],
   "source": [
    "testimageGen = imageGen.flow_from_directory(directory = testPath,\n",
    "                                               target_size=target_size,\n",
    "                                               color_mode='rgb',\n",
    "                                               batch_size=batchSize,\n",
    "                                               class_mode='binary', shuffle=False)"
   ]
  },
  {
   "cell_type": "code",
   "execution_count": null,
   "metadata": {
    "colab": {
     "base_uri": "https://localhost:8080/",
     "height": 35
    },
    "colab_type": "code",
    "executionInfo": {
     "elapsed": 428,
     "status": "ok",
     "timestamp": 1580101026449,
     "user": {
      "displayName": "Nathan Moliterno",
      "photoUrl": "https://lh3.googleusercontent.com/-qDA03Kbn3q0/AAAAAAAAAAI/AAAAAAAAAiQ/pB6-5JB2ezk/s64/photo.jpg",
      "userId": "01817567104458419645"
     },
     "user_tz": 360
    },
    "id": "4_2qLgzVZH__",
    "outputId": "3df198fa-061c-4b13-883c-9360e72e98a0"
   },
   "outputs": [],
   "source": [
    "trainimageGen.class_indices"
   ]
  },
  {
   "cell_type": "code",
   "execution_count": null,
   "metadata": {
    "colab": {},
    "colab_type": "code",
    "id": "Njax3JhxZIAE"
   },
   "outputs": [],
   "source": [
    "warnings.filterwarnings('ignore')"
   ]
  },
  {
   "cell_type": "code",
   "execution_count": null,
   "metadata": {
    "colab": {
     "base_uri": "https://localhost:8080/",
     "height": 531
    },
    "colab_type": "code",
    "executionInfo": {
     "elapsed": 914,
     "status": "ok",
     "timestamp": 1580101032407,
     "user": {
      "displayName": "Nathan Moliterno",
      "photoUrl": "https://lh3.googleusercontent.com/-qDA03Kbn3q0/AAAAAAAAAAI/AAAAAAAAAiQ/pB6-5JB2ezk/s64/photo.jpg",
      "userId": "01817567104458419645"
     },
     "user_tz": 360
    },
    "id": "_wchsxi7ZH_o",
    "outputId": "08034259-fdad-4209-d9c7-c2499267771f"
   },
   "outputs": [],
   "source": [
    "model.summary()"
   ]
  },
  {
   "cell_type": "code",
   "execution_count": null,
   "metadata": {
    "colab": {
     "base_uri": "https://localhost:8080/",
     "height": 639
    },
    "colab_type": "code",
    "executionInfo": {
     "elapsed": 98945,
     "status": "error",
     "timestamp": 1580101134887,
     "user": {
      "displayName": "Nathan Moliterno",
      "photoUrl": "https://lh3.googleusercontent.com/-qDA03Kbn3q0/AAAAAAAAAAI/AAAAAAAAAiQ/pB6-5JB2ezk/s64/photo.jpg",
      "userId": "01817567104458419645"
     },
     "user_tz": 360
    },
    "id": "5QmYwxONZIAI",
    "outputId": "098bd62c-3ac5-4246-8ae3-c6f788ec9732",
    "scrolled": true
   },
   "outputs": [],
   "source": [
    "results = model.fit_generator(trainimageGen,epochs=100,\n",
    "                              validation_data=testimageGen,\n",
    "                              callbacks=[earlyStop])"
   ]
  },
  {
   "cell_type": "markdown",
   "metadata": {
    "colab_type": "text",
    "id": "Eyy9CgoxZIAM"
   },
   "source": [
    "# Evaluate model"
   ]
  },
  {
   "cell_type": "code",
   "execution_count": null,
   "metadata": {},
   "outputs": [],
   "source": [
    "#If you want to load pre-trained network\n",
    "    # 1) comment out the three 'losses' cells below this one\n",
    "    # 2) uncomment  this cell below  \n",
    "\n",
    "#model = loadModel('malaria_detectorNQM.h5')"
   ]
  },
  {
   "cell_type": "code",
   "execution_count": null,
   "metadata": {
    "colab": {},
    "colab_type": "code",
    "id": "7prGZMt8ZIAO"
   },
   "outputs": [],
   "source": [
    "losses = pd.DataFrame(model.history.history)"
   ]
  },
  {
   "cell_type": "code",
   "execution_count": null,
   "metadata": {
    "colab": {},
    "colab_type": "code",
    "id": "mScoz9cMZIAS"
   },
   "outputs": [],
   "source": [
    "losses[['loss','val_loss']].plot()"
   ]
  },
  {
   "cell_type": "code",
   "execution_count": null,
   "metadata": {},
   "outputs": [],
   "source": [
    "losses[['accuracy','val_accuracy']].plot()"
   ]
  },
  {
   "cell_type": "code",
   "execution_count": null,
   "metadata": {
    "colab": {},
    "colab_type": "code",
    "id": "PzVNR-nwZIAW"
   },
   "outputs": [],
   "source": [
    "model.metrics_names"
   ]
  },
  {
   "cell_type": "code",
   "execution_count": null,
   "metadata": {
    "colab": {},
    "colab_type": "code",
    "id": "na1XZycXZIAb"
   },
   "outputs": [],
   "source": [
    "model.evaluate_generator(testimageGen)"
   ]
  },
  {
   "cell_type": "code",
   "execution_count": null,
   "metadata": {
    "colab": {},
    "colab_type": "code",
    "id": "uV6yBAC-ZIAe"
   },
   "outputs": [],
   "source": [
    "predProbabilities = model.predict_generator(testimageGen)"
   ]
  },
  {
   "cell_type": "code",
   "execution_count": null,
   "metadata": {
    "colab": {},
    "colab_type": "code",
    "id": "LXImBGfgZIAh",
    "scrolled": true
   },
   "outputs": [],
   "source": [
    "predProbabilities"
   ]
  },
  {
   "cell_type": "code",
   "execution_count": null,
   "metadata": {
    "colab": {},
    "colab_type": "code",
    "id": "kO00mBqfZIAl"
   },
   "outputs": [],
   "source": [
    "testimageGen.classes"
   ]
  },
  {
   "cell_type": "code",
   "execution_count": null,
   "metadata": {
    "colab": {},
    "colab_type": "code",
    "id": "ddCh1L3lZIAs"
   },
   "outputs": [],
   "source": [
    "predictions = predProbabilities > 0.5\n",
    "predictions"
   ]
  },
  {
   "cell_type": "code",
   "execution_count": null,
   "metadata": {
    "colab": {},
    "colab_type": "code",
    "id": "UbxsGbwAZIA3"
   },
   "outputs": [],
   "source": [
    "print(classification_report(testimageGen.classes,predictions))"
   ]
  },
  {
   "cell_type": "code",
   "execution_count": null,
   "metadata": {
    "colab": {},
    "colab_type": "code",
    "id": "uIfq2zdlZIA-"
   },
   "outputs": [],
   "source": [
    "confusion_matrix(testimageGen.classes,predictions)"
   ]
  },
  {
   "cell_type": "markdown",
   "metadata": {
    "colab_type": "text",
    "id": "QufA8fcYZIBD"
   },
   "source": [
    "# sample prediction"
   ]
  },
  {
   "cell_type": "code",
   "execution_count": null,
   "metadata": {
    "colab": {},
    "colab_type": "code",
    "id": "q9tGXGHQZIBF"
   },
   "outputs": [],
   "source": [
    "paraCell"
   ]
  },
  {
   "cell_type": "code",
   "execution_count": null,
   "metadata": {
    "colab": {},
    "colab_type": "code",
    "id": "9q7C3gjFZIBJ"
   },
   "outputs": [],
   "source": [
    "myimage = image.load_img(paraCell,target_size=target_size)\n",
    "myimage"
   ]
  },
  {
   "cell_type": "code",
   "execution_count": null,
   "metadata": {
    "colab": {},
    "colab_type": "code",
    "id": "emRJ_cvVZIBS"
   },
   "outputs": [],
   "source": [
    "type(myimage)"
   ]
  },
  {
   "cell_type": "code",
   "execution_count": null,
   "metadata": {
    "colab": {},
    "colab_type": "code",
    "id": "Pc_Ip-HAZIBW"
   },
   "outputs": [],
   "source": [
    "myimage = image.img_to_array(myimage)"
   ]
  },
  {
   "cell_type": "code",
   "execution_count": null,
   "metadata": {
    "colab": {},
    "colab_type": "code",
    "id": "YxA8TjJ1ZIBc"
   },
   "outputs": [],
   "source": [
    "type(myimage)"
   ]
  },
  {
   "cell_type": "code",
   "execution_count": null,
   "metadata": {
    "colab": {},
    "colab_type": "code",
    "id": "QHgikxQlZIBi"
   },
   "outputs": [],
   "source": [
    "myimage.shape"
   ]
  },
  {
   "cell_type": "code",
   "execution_count": null,
   "metadata": {
    "colab": {},
    "colab_type": "code",
    "id": "Nt0FLHqYZIBm"
   },
   "outputs": [],
   "source": [
    "myimage = np.expand_dims(myimage, axis=0)\n",
    "myimage.shape"
   ]
  },
  {
   "cell_type": "code",
   "execution_count": null,
   "metadata": {
    "colab": {},
    "colab_type": "code",
    "id": "-jgp0vrzZIBv",
    "scrolled": true
   },
   "outputs": [],
   "source": [
    "model.predict(myimage)"
   ]
  },
  {
   "cell_type": "code",
   "execution_count": null,
   "metadata": {},
   "outputs": [],
   "source": [
    "model.predict_classes(myimage)"
   ]
  },
  {
   "cell_type": "code",
   "execution_count": null,
   "metadata": {
    "colab": {},
    "colab_type": "code",
    "id": "PRuS96b3ZIBz"
   },
   "outputs": [],
   "source": [
    "trainimageGen.class_indices"
   ]
  },
  {
   "cell_type": "code",
   "execution_count": null,
   "metadata": {
    "colab": {},
    "colab_type": "code",
    "id": "ZexNTFnhZIB4"
   },
   "outputs": [],
   "source": [
    "testimageGen.class_indices"
   ]
  },
  {
   "cell_type": "markdown",
   "metadata": {
    "colab_type": "text",
    "id": "-m5jj1_-ZIB8"
   },
   "source": [
    "# Save model"
   ]
  },
  {
   "cell_type": "code",
   "execution_count": null,
   "metadata": {
    "colab": {},
    "colab_type": "code",
    "id": "zmYMv81eZIB9"
   },
   "outputs": [],
   "source": [
    "joblib.dump(imageShape[:2], \"target_size.pkl\")\n",
    "model.save('malaria_detectorNQM.h5')"
   ]
  },
  {
   "cell_type": "markdown",
   "metadata": {},
   "source": [
    "# Deployment Practice"
   ]
  },
  {
   "cell_type": "code",
   "execution_count": null,
   "metadata": {},
   "outputs": [],
   "source": [
    "def return_prediction(model, target_size, sample_json):\n",
    "    imgLoc = sample_json[\"imgLoc\"]\n",
    "    \n",
    "    imgData = np.expand_dims(image.img_to_array(image.load_img(imgLoc, target_size = target_size)), axis = 0)\n",
    "    \n",
    "    classes = np.array(['parasitized', 'uninfected'])\n",
    "    \n",
    "    class_ind = model.predict_classes(imgData)\n",
    "    \n",
    "    return classes[class_ind][0][0]"
   ]
  },
  {
   "cell_type": "code",
   "execution_count": null,
   "metadata": {},
   "outputs": [],
   "source": [
    "imgLoc = paraCell\n",
    "cellExample = {'imgLoc' : imgLoc}\n",
    "return_prediction(model, target_size, cellExample)"
   ]
  },
  {
   "cell_type": "code",
   "execution_count": null,
   "metadata": {},
   "outputs": [],
   "source": [
    "imgLoc = uninfectedCell\n",
    "cellExample = {'imgLoc' : imgLoc}\n",
    "return_prediction(model, target_size, cellExample)"
   ]
  }
 ],
 "metadata": {
  "accelerator": "GPU",
  "colab": {
   "collapsed_sections": [
    "Eyy9CgoxZIAM",
    "QufA8fcYZIBD"
   ],
   "name": "tfConvoluteMalaria.ipynb",
   "provenance": [
    {
     "file_id": "1tLXM15hOWCPaEtyhcw6XF79oOyOjtKzt",
     "timestamp": 1579986190325
    }
   ]
  },
  "kernelspec": {
   "display_name": "Python 3",
   "language": "python",
   "name": "python3"
  },
  "language_info": {
   "codemirror_mode": {
    "name": "ipython",
    "version": 3
   },
   "file_extension": ".py",
   "mimetype": "text/x-python",
   "name": "python",
   "nbconvert_exporter": "python",
   "pygments_lexer": "ipython3",
   "version": "3.7.9"
  }
 },
 "nbformat": 4,
 "nbformat_minor": 1
}
